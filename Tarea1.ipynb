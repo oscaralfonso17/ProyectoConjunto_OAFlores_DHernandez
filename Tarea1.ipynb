{
 "cells": [
  {
   "cell_type": "markdown",
   "metadata": {},
   "source": [
    "<img style=\"float: left; margin: 30px 15px 15px 15px;\" src=\"https://pngimage.net/wp-content/uploads/2018/06/logo-iteso-png-5.png\" width=\"300\" height=\"500\" /> \n",
    "    \n",
    "    \n",
    "### <font color='navy'> Simulación de procesos financieros. \n",
    "\n",
    "**Nombres:** Daphne Hernández Sandoval, Oscar Alfonso Flores Orozco.\n",
    "\n",
    "**Fecha:** 04 de febrero del 2020.\n",
    "\n",
    "**Expediente** : 709261. 710183. \n",
    "**Profesor:** Oscar David Jaramillo Zuluaga.\n",
    "\n",
    "# Tarea 1: Clase 2"
   ]
  },
  {
   "cell_type": "markdown",
   "metadata": {},
   "source": [
    "***"
   ]
  },
  {
   "cell_type": "markdown",
   "metadata": {},
   "source": [
    "### 1. Las expectativas de curso de Oscar:"
   ]
  },
  {
   "cell_type": "markdown",
   "metadata": {},
   "source": [
    "<img src=\"https://cdn0.iconfinder.com/data/icons/octicons/1024/markdown-512.png\" width=\"100\">"
   ]
  },
  {
   "cell_type": "markdown",
   "metadata": {},
   "source": [
    "\n",
    "    \n",
    "|   | Expectativas: |   |\n",
    "| :-: | :-: | :-: |\n",
    "| <span style=\"color:blue\"> poder agilizar la manera en la que programo, ya que a veces presiento que se llegar a los resultados pero existen maneras más sencillas. <span>  |   <span style=\"color:red\"> A lo largo de este curso espero poder *reforzar* los conocimientos que se han adquirido en clases como Algoritmos y Programación, Portafolios de Inversión, Análisis de Riesgo... que han sido materias que se ha utlizado la programación como medio de aprendizaje. <span>      | <span style=\"color:green\"> `Espero` , que en conjunto con mis otras materias y mis prácticas profesionales, sepa utlizar de manera **eficaz** mis conocimientos para que no sea un semestre pesado por la carga de materias que voy a cursar. <span>|\n"
   ]
  },
  {
   "cell_type": "markdown",
   "metadata": {},
   "source": [
    "### 1. Las expectativas de curso de Daphne:"
   ]
  },
  {
   "cell_type": "markdown",
   "metadata": {},
   "source": [
    "<img style=\"center\" src=\"https://anthoncode.com/wp-content/uploads/2019/01/python-logo-png.png\" width=\"250px\" height=\"200px\" alt=\"atom\" />"
   ]
  },
  {
   "cell_type": "markdown",
   "metadata": {},
   "source": [
    "- Espero reafirmar los conocimientos previos de programación además de conectar lo aprendido en clase en el campo laboral \n"
   ]
  },
  {
   "cell_type": "markdown",
   "metadata": {},
   "source": [
    "***"
   ]
  },
  {
   "cell_type": "markdown",
   "metadata": {},
   "source": [
    "### 2. Resumen del [documento](https://www.economist.com/graphic-detail/2018/07/26/python-is-becoming-the-worlds-most-popular-coding-language) Oscar:"
   ]
  },
  {
   "cell_type": "markdown",
   "metadata": {},
   "source": [
    "El artículo empieza con una cita de Guido van Rossum, el creador de Python, quien se ve sorprendido por el lenguaje que ha creado y el uso y la importancia del mismo hoy en día.  \n",
    "\n",
    "Después, habla de los dos puntos fuertes de Python:\n",
    "* **simplicidad**\n",
    "* **flexibilidad**  \n",
    "\n",
    "Además, Python es un lenguaje fácil de entender, fácil de usar y fácil de leer.\n",
    "\n",
    "\n",
    "Algunos frutos que ha dejado Python en las grandes compañias son:\n",
    "- Central Intelligence Agency lo ha usado para 'hackear'\n",
    "- Google para crear páginas web\n",
    "- Pixar para producir películas\n",
    "- Spotify para recomendar canciones\n",
    "\n",
    "Al final, se hace la comparación con el lenguaje C++ y con Java, que se dice que Python 'no va a matarlos', pero se puede concluir que este lenguaje tiene un gran futuro, y puede estar muy cerca.\n"
   ]
  },
  {
   "cell_type": "markdown",
   "metadata": {},
   "source": [
    "### 2. Resumen del [documento](https://www.economist.com/graphic-detail/2018/07/26/python-is-becoming-the-worlds-most-popular-coding-language) Daphne:"
   ]
  },
  {
   "cell_type": "markdown",
   "metadata": {},
   "source": [
    "Python es el lenguaje de programación lider en el mercado gracias a dos caracteristicas importantes, la simplicidad y la flexibilidad con la que se maneja hace muy fácil aprender, leer y compartir; otra de las ventajas de phyton es la gran versatilidad que manejas, el lenguaje ha servido a Google, Central Intelligence Agency,Pixar, Spotify, entre otros. No se busca reemplazar a C y CC+ o a otros lenguajes de programación."
   ]
  },
  {
   "cell_type": "markdown",
   "metadata": {},
   "source": [
    "***"
   ]
  },
  {
   "cell_type": "markdown",
   "metadata": {},
   "source": [
    "### 3. Transcripción LaTeX Oscar:"
   ]
  },
  {
   "cell_type": "markdown",
   "metadata": {},
   "source": [
    "La fórmula el rectángulo se obtiene al interpolar a $f(x)$ por medio del polinomio constante $p_0(x)$ = $f(\\frac{a+b}{2})$.\n",
    "    \\begin{equation}\n",
    "    \\int_{a}^{b} f(x) \\,dx\\approx (b-a) f\\frac{a+b}{2} = R(f)\n",
    "    \\end{equation}\n",
    "    \n",
    "La fórmula del trapecio se obtiene al interpolar a $f$ por medio de un polinomio lineal $p_1(x)$ = $\\alpha$x + $\\beta$ que satisfaga $f(a) = p_1(a)$, y $f(b) = p_1(b).$ Determinar el polinomio lineal es equivalente a resolver un sistema de ecuaciones lineales para $\\alpha$ y $\\beta$  cuya solución es\n",
    "    \\begin{equation}\n",
    "        \\alpha = \\frac{f(b)-f(a)}{b-a} \n",
    "        \\beta = \\frac{f(b)a-f(a)b}{b-a}\n",
    "    \\end{equation}\n",
    "   \n",
    "   Al integrar $p_1(x)$ en el intervalo $[a,b]$ se obtiene la regla del trapecio con $h = b - a$\n",
    "   \\begin{equation}\n",
    "   \\int_{a}^{b} f(x) \\,dx\\approx \\int{a}^{b} p_1(x) \\, dx = \\frac{h}{2}(f(a)+f(b)) = T(f)\n",
    "   \\end{equation}\n",
    "   \n",
    "   El error esta dado por\n",
    "   \\begin{equation}\n",
    "       \\int_{a}^{b} f(x)\\,dx - T(f)= \\frac{h^3}{12}(f''(n)), a < n < b\n",
    "   \\end{equation}\n",
    "   \n",
    "   Por último al integrar el polinomio cuadrático que interpola a $f$ en $x = a, x = \\frac{a+b}{2}$ y $x = b$ se obtiene la regla de Simpson con $h = \\frac{b-a}{2}$\n",
    "   \\begin{equation}\n",
    "       \\int_{a}^{b} f(x) \\,dx\\approx \\int_{a}^{b} p_2(x) \\,dx= \\frac{h}{3}(f(a)+4f(a+h)+f(b)) = S(f).\n",
    "   \\end{equation}\n",
    "   \n",
    "   El error que se comete al usar Simpson es\n",
    "   \\begin{equation}\n",
    "       \\_int{a}^{b} \\,dx - S(f) = \\frac{h^5}{90}(f^4(n)), a < n < b.\n",
    "   \\end{equation}\n",
    "\n"
   ]
  },
  {
   "cell_type": "markdown",
   "metadata": {},
   "source": [
    "### 3. Transcripción LaTeX Daphne:"
   ]
  },
  {
   "cell_type": "markdown",
   "metadata": {},
   "source": [
    "1. La fórmula del rectángulo se obtiene al interpolar a $f(x)$ por medio del polinomio constante $P_0(x)=f(\\frac{a+b}{2})$.\n",
    "\\begin{equation}\\begin{aligned}\n",
    "\\int_{a}^{b} f(x) \\,dx\\approx (b-a) f(\\frac{a+b}{2})=R(f).\n",
    "\\end{aligned}\\end{equation}\n",
    "2. La fórmula del trapecio se obtiene al interpolar a $f$ por medio de un polinomio lineal $P_1(x)=ax+\\beta$ que satisfaga $f(a)=P_1(a)$, y $f(b)$. Determinar el polinomio lineal es equivalente a resolver un sistema de escuaciones lineales para $a$ y $\\beta$ cuya solución es\n",
    "\\begin{equation}\\begin{aligned}\n",
    "a=\\frac{f(b)-f(a)}{b-a}\\qquad\\beta=\\frac{f(b)a-f(a)b}{b-a}.\n",
    "\\end{aligned}\\end{equation}\n",
    "Al integrar $P_1(x)$  en el intervalo $[a,b]$ se obtiene la regla del trapecio con $h=b-a$\n",
    "\\begin{equation}\\begin{aligned}\n",
    "\\int_{a}^{b} f(x) \\,dx\\approx\\int_{a}^{b} P_1(x) \\,dx=\\frac{h}{2}(f(a)+f(b))=T(f).\n",
    "\\end{aligned}\\end{equation}\n",
    "El error esta dado por\n",
    "\\begin{equation}\\begin{aligned}\n",
    "\\int_{a}^{b} f(x) \\,dx-T(f)=-\\frac{h^3}{12}(f''(n)),\\qquad a<\\eta<b.\n",
    "\\end{aligned}\\end{equation}\n",
    "3. Por último al integrar el polinomio cuadrático que interpola a $f$ en $x=a, x=\\frac{a+b}{2}$, y $x=b$ se obtiene la regla de Simpson con $h=\\frac{b-a}{2}$\n",
    "\\begin{equation}\\begin{aligned}\n",
    "\\int_{a}^{b} f(x) \\,dx\\approx\\int_{a}^{b} P_2(x) \\,dx=\\frac{h}{3}(f(a)+4f(a+h)+f(b))=S(f).\n",
    "\\end{aligned}\\end{equation}\n",
    "El error que se comete al usar Simpson es \n",
    "\\begin{equation}\\begin{aligned}\n",
    "\\int_{a}^{b} f(x) \\,dx-S(f)=\\frac{h^5}{90}(f^4(\\eta)),\\qquad a<\\eta<b.\n",
    "\\end{aligned}\\end{equation}"
   ]
  },
  {
   "cell_type": "markdown",
   "metadata": {},
   "source": [
    "***"
   ]
  },
  {
   "cell_type": "markdown",
   "metadata": {},
   "source": [
    "### 4. Serie Fibonacci Oscar:"
   ]
  },
  {
   "cell_type": "code",
   "execution_count": 6,
   "metadata": {},
   "outputs": [
    {
     "name": "stdout",
     "output_type": "stream",
     "text": [
      "[0, 1, 1, 1, 1, 2, 2, 2, 3, 4, 4, 5, 7, 8, 9, 12, 15, 17, 21, 27, 32, 38, 48, 59, 70, 86, 107, 129, 156, 193, 236, 285, 349, 429, 521, 634, 778, 950, 1155, 1412, 1728, 2105, 2567, 3140, 3833, 4672, 5707, 6973, 8505, 10379, 12680, 15478, 18884, 23059, 28158, 34362, 41943, 51217, 62520, 76305, 93160, 113737, 138825, 169465, 206897, 252562, 308290, 376362, 459459, 560852, 684652, 835821, 1020311, 1245504, 1520473, 1856132, 2265815, 2765977, 3376605, 4121947, 5031792, 6142582, 7498552, 9153739, 11174374, 13641134, 16652291, 20328113, 24815508, 30293425, 36980404, 45143621, 55108933, 67273829, 82124025, 100252554, 122382762, 149397854, 182376579, 222635316]\n"
     ]
    }
   ],
   "source": [
    "fibonacci = [0, 1]\n",
    "for i in range(98):\n",
    "    fibonacci.append(fibonacci[i-1]+fibonacci[i-2])\n",
    "print (fibonacci)"
   ]
  },
  {
   "cell_type": "code",
   "execution_count": 7,
   "metadata": {},
   "outputs": [
    {
     "data": {
      "text/plain": [
       "100"
      ]
     },
     "execution_count": 7,
     "metadata": {},
     "output_type": "execute_result"
    }
   ],
   "source": [
    "len(fibonacci)"
   ]
  },
  {
   "cell_type": "markdown",
   "metadata": {},
   "source": [
    "### 4. Serie números primos Daphne:"
   ]
  },
  {
   "cell_type": "code",
   "execution_count": 2,
   "metadata": {},
   "outputs": [
    {
     "name": "stdout",
     "output_type": "stream",
     "text": [
      "2\n",
      "3\n",
      "5\n",
      "7\n",
      "11\n",
      "13\n",
      "17\n",
      "19\n",
      "23\n",
      "29\n",
      "31\n",
      "37\n",
      "41\n",
      "43\n",
      "47\n",
      "53\n",
      "59\n",
      "61\n",
      "67\n",
      "71\n",
      "73\n",
      "79\n",
      "83\n",
      "89\n",
      "97\n"
     ]
    }
   ],
   "source": [
    "for i in range(2,100):\n",
    "    c = 2\n",
    "    primo = True\n",
    "    while primo and c<i:\n",
    "        if i%c == 0:\n",
    "            primo = False\n",
    "        else:\n",
    "            c+=1\n",
    "    if primo:\n",
    "        print(i)"
   ]
  },
  {
   "cell_type": "code",
   "execution_count": null,
   "metadata": {},
   "outputs": [],
   "source": []
  }
 ],
 "metadata": {
  "kernelspec": {
   "display_name": "Python 3",
   "language": "python",
   "name": "python3"
  },
  "language_info": {
   "codemirror_mode": {
    "name": "ipython",
    "version": 3
   },
   "file_extension": ".py",
   "mimetype": "text/x-python",
   "name": "python",
   "nbconvert_exporter": "python",
   "pygments_lexer": "ipython3",
   "version": "3.7.1"
  }
 },
 "nbformat": 4,
 "nbformat_minor": 2
}
